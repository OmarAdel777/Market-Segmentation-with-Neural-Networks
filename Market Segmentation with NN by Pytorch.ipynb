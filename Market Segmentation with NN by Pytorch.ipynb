{
 "cells": [
  {
   "cell_type": "markdown",
   "id": "0f42e2c4",
   "metadata": {},
   "source": [
    "## import libraries"
   ]
  },
  {
   "cell_type": "code",
   "execution_count": 177,
   "id": "8c859351",
   "metadata": {},
   "outputs": [],
   "source": [
    "import pandas as pd\n",
    "import numpy as np \n",
    "import matplotlib.pyplot as plt \n",
    "import seaborn as sns \n",
    "import warnings\n",
    "import os\n",
    "warnings.filterwarnings(\"ignore\")"
   ]
  },
  {
   "cell_type": "code",
   "execution_count": 178,
   "id": "ef0131e9",
   "metadata": {},
   "outputs": [],
   "source": [
    "file_path = input(\"Enter the path of the data\")\n",
    "# \"D:\\Datascience\\Electropi\\2.Artificial Neural Networks [NN1]\\2.Neural Networks Coding\\capstone\\capstone\\data.csv\""
   ]
  },
  {
   "cell_type": "code",
   "execution_count": 179,
   "id": "691fdc49",
   "metadata": {},
   "outputs": [],
   "source": [
    "# Try specifying encoding (e.g., 'utf-8', 'ISO-8859-1', or 'cp1252')\n",
    "df = pd.read_csv(file_path,encoding='unicode_escape')"
   ]
  },
  {
   "cell_type": "code",
   "execution_count": 180,
   "id": "75bb2799",
   "metadata": {},
   "outputs": [
    {
     "data": {
      "text/plain": [
       "(541909, 8)"
      ]
     },
     "execution_count": 180,
     "metadata": {},
     "output_type": "execute_result"
    }
   ],
   "source": [
    "df.shape"
   ]
  },
  {
   "cell_type": "code",
   "execution_count": 181,
   "id": "08bc7406",
   "metadata": {},
   "outputs": [
    {
     "name": "stdout",
     "output_type": "stream",
     "text": [
      "<class 'pandas.core.frame.DataFrame'>\n",
      "RangeIndex: 541909 entries, 0 to 541908\n",
      "Data columns (total 8 columns):\n",
      " #   Column       Non-Null Count   Dtype  \n",
      "---  ------       --------------   -----  \n",
      " 0   InvoiceNo    541909 non-null  object \n",
      " 1   StockCode    541909 non-null  object \n",
      " 2   Description  540455 non-null  object \n",
      " 3   Quantity     541909 non-null  int64  \n",
      " 4   InvoiceDate  541909 non-null  object \n",
      " 5   UnitPrice    541909 non-null  float64\n",
      " 6   CustomerID   406829 non-null  float64\n",
      " 7   Country      541909 non-null  object \n",
      "dtypes: float64(2), int64(1), object(5)\n",
      "memory usage: 33.1+ MB\n"
     ]
    }
   ],
   "source": [
    "df.info()"
   ]
  },
  {
   "cell_type": "code",
   "execution_count": 182,
   "id": "df214e57",
   "metadata": {},
   "outputs": [
    {
     "data": {
      "text/html": [
       "<div>\n",
       "<style scoped>\n",
       "    .dataframe tbody tr th:only-of-type {\n",
       "        vertical-align: middle;\n",
       "    }\n",
       "\n",
       "    .dataframe tbody tr th {\n",
       "        vertical-align: top;\n",
       "    }\n",
       "\n",
       "    .dataframe thead th {\n",
       "        text-align: right;\n",
       "    }\n",
       "</style>\n",
       "<table border=\"1\" class=\"dataframe\">\n",
       "  <thead>\n",
       "    <tr style=\"text-align: right;\">\n",
       "      <th></th>\n",
       "      <th>InvoiceNo</th>\n",
       "      <th>StockCode</th>\n",
       "      <th>Description</th>\n",
       "      <th>Quantity</th>\n",
       "      <th>InvoiceDate</th>\n",
       "      <th>UnitPrice</th>\n",
       "      <th>CustomerID</th>\n",
       "      <th>Country</th>\n",
       "    </tr>\n",
       "  </thead>\n",
       "  <tbody>\n",
       "    <tr>\n",
       "      <th>0</th>\n",
       "      <td>536365</td>\n",
       "      <td>85123A</td>\n",
       "      <td>WHITE HANGING HEART T-LIGHT HOLDER</td>\n",
       "      <td>6</td>\n",
       "      <td>12/1/2010 8:26</td>\n",
       "      <td>2.55</td>\n",
       "      <td>17850.0</td>\n",
       "      <td>United Kingdom</td>\n",
       "    </tr>\n",
       "    <tr>\n",
       "      <th>1</th>\n",
       "      <td>536365</td>\n",
       "      <td>71053</td>\n",
       "      <td>WHITE METAL LANTERN</td>\n",
       "      <td>6</td>\n",
       "      <td>12/1/2010 8:26</td>\n",
       "      <td>3.39</td>\n",
       "      <td>17850.0</td>\n",
       "      <td>United Kingdom</td>\n",
       "    </tr>\n",
       "    <tr>\n",
       "      <th>2</th>\n",
       "      <td>536365</td>\n",
       "      <td>84406B</td>\n",
       "      <td>CREAM CUPID HEARTS COAT HANGER</td>\n",
       "      <td>8</td>\n",
       "      <td>12/1/2010 8:26</td>\n",
       "      <td>2.75</td>\n",
       "      <td>17850.0</td>\n",
       "      <td>United Kingdom</td>\n",
       "    </tr>\n",
       "    <tr>\n",
       "      <th>3</th>\n",
       "      <td>536365</td>\n",
       "      <td>84029G</td>\n",
       "      <td>KNITTED UNION FLAG HOT WATER BOTTLE</td>\n",
       "      <td>6</td>\n",
       "      <td>12/1/2010 8:26</td>\n",
       "      <td>3.39</td>\n",
       "      <td>17850.0</td>\n",
       "      <td>United Kingdom</td>\n",
       "    </tr>\n",
       "    <tr>\n",
       "      <th>4</th>\n",
       "      <td>536365</td>\n",
       "      <td>84029E</td>\n",
       "      <td>RED WOOLLY HOTTIE WHITE HEART.</td>\n",
       "      <td>6</td>\n",
       "      <td>12/1/2010 8:26</td>\n",
       "      <td>3.39</td>\n",
       "      <td>17850.0</td>\n",
       "      <td>United Kingdom</td>\n",
       "    </tr>\n",
       "  </tbody>\n",
       "</table>\n",
       "</div>"
      ],
      "text/plain": [
       "  InvoiceNo StockCode                          Description  Quantity  \\\n",
       "0    536365    85123A   WHITE HANGING HEART T-LIGHT HOLDER         6   \n",
       "1    536365     71053                  WHITE METAL LANTERN         6   \n",
       "2    536365    84406B       CREAM CUPID HEARTS COAT HANGER         8   \n",
       "3    536365    84029G  KNITTED UNION FLAG HOT WATER BOTTLE         6   \n",
       "4    536365    84029E       RED WOOLLY HOTTIE WHITE HEART.         6   \n",
       "\n",
       "      InvoiceDate  UnitPrice  CustomerID         Country  \n",
       "0  12/1/2010 8:26       2.55     17850.0  United Kingdom  \n",
       "1  12/1/2010 8:26       3.39     17850.0  United Kingdom  \n",
       "2  12/1/2010 8:26       2.75     17850.0  United Kingdom  \n",
       "3  12/1/2010 8:26       3.39     17850.0  United Kingdom  \n",
       "4  12/1/2010 8:26       3.39     17850.0  United Kingdom  "
      ]
     },
     "execution_count": 182,
     "metadata": {},
     "output_type": "execute_result"
    }
   ],
   "source": [
    "df.head()"
   ]
  },
  {
   "cell_type": "markdown",
   "id": "a43e4657",
   "metadata": {},
   "source": [
    "## Drop the not needed columns "
   ]
  },
  {
   "cell_type": "code",
   "execution_count": 160,
   "id": "4dc6b0ee",
   "metadata": {},
   "outputs": [
    {
     "name": "stdout",
     "output_type": "stream",
     "text": [
      "Enter column names to drop (comma-separated): InvoiceNo,StockCode,Description,InvoiceDate\n",
      "Columns to choose from: ['InvoiceNo', 'StockCode', 'Description', 'Quantity', 'InvoiceDate', 'UnitPrice', 'CustomerID', 'Country']\n",
      "Updated DataFrame:\n",
      "        Quantity  UnitPrice  CustomerID         Country\n",
      "0              6       2.55     17850.0  United Kingdom\n",
      "1              6       3.39     17850.0  United Kingdom\n",
      "2              8       2.75     17850.0  United Kingdom\n",
      "3              6       3.39     17850.0  United Kingdom\n",
      "4              6       3.39     17850.0  United Kingdom\n",
      "...          ...        ...         ...             ...\n",
      "541904        12       0.85     12680.0          France\n",
      "541905         6       2.10     12680.0          France\n",
      "541906         4       4.15     12680.0          France\n",
      "541907         4       4.15     12680.0          France\n",
      "541908         3       4.95     12680.0          France\n",
      "\n",
      "[541909 rows x 4 columns]\n"
     ]
    }
   ],
   "source": [
    "# Get column names from the user\n",
    "columns_to_drop_str = input(\"Enter column names to drop (comma-separated): \")\n",
    "\n",
    "# Split the input into a list of column names\n",
    "columns_to_drop = [col.strip() for col in columns_to_drop_str.split(',')]\n",
    "\n",
    "# Print the columns to choose from\n",
    "print(\"Columns to choose from:\", df.columns.tolist())\n",
    "\n",
    "# Drop the specified columns from the DataFrame\n",
    "df.drop(columns=columns_to_drop, inplace=True)\n",
    "\n",
    "# Show the updated DataFrame\n",
    "print(\"Updated DataFrame:\")\n",
    "print(df)\n"
   ]
  },
  {
   "cell_type": "code",
   "execution_count": 75,
   "id": "182ffbb1",
   "metadata": {},
   "outputs": [],
   "source": [
    "df[\"InvoiceDate\"]=pd.to_datetime(df[\"InvoiceDate\"])"
   ]
  },
  {
   "cell_type": "code",
   "execution_count": 183,
   "id": "1873887b",
   "metadata": {},
   "outputs": [
    {
     "data": {
      "text/plain": [
       "5268"
      ]
     },
     "execution_count": 183,
     "metadata": {},
     "output_type": "execute_result"
    }
   ],
   "source": [
    "df.duplicated().sum()"
   ]
  },
  {
   "cell_type": "markdown",
   "id": "7443d238",
   "metadata": {},
   "source": [
    "## Removing dublicated rows and empty rows"
   ]
  },
  {
   "cell_type": "code",
   "execution_count": 184,
   "id": "9e148e94",
   "metadata": {},
   "outputs": [],
   "source": [
    "df.drop_duplicates(inplace=True)"
   ]
  },
  {
   "cell_type": "code",
   "execution_count": 185,
   "id": "a5eb9ad5",
   "metadata": {},
   "outputs": [
    {
     "data": {
      "text/plain": [
       "CustomerID     25.163377\n",
       "Description     0.270945\n",
       "InvoiceNo       0.000000\n",
       "StockCode       0.000000\n",
       "Quantity        0.000000\n",
       "InvoiceDate     0.000000\n",
       "UnitPrice       0.000000\n",
       "Country         0.000000\n",
       "dtype: float64"
      ]
     },
     "execution_count": 185,
     "metadata": {},
     "output_type": "execute_result"
    }
   ],
   "source": [
    "(df.isna().sum().sort_values(ascending=False)/len(df))*100"
   ]
  },
  {
   "cell_type": "code",
   "execution_count": 186,
   "id": "0a06d118",
   "metadata": {},
   "outputs": [],
   "source": [
    "df.dropna(inplace=True)"
   ]
  },
  {
   "cell_type": "markdown",
   "id": "a7a2bc3e",
   "metadata": {},
   "source": [
    "## Statistical Summary"
   ]
  },
  {
   "cell_type": "code",
   "execution_count": 187,
   "id": "52a242e6",
   "metadata": {},
   "outputs": [
    {
     "data": {
      "text/html": [
       "<div>\n",
       "<style scoped>\n",
       "    .dataframe tbody tr th:only-of-type {\n",
       "        vertical-align: middle;\n",
       "    }\n",
       "\n",
       "    .dataframe tbody tr th {\n",
       "        vertical-align: top;\n",
       "    }\n",
       "\n",
       "    .dataframe thead th {\n",
       "        text-align: right;\n",
       "    }\n",
       "</style>\n",
       "<table border=\"1\" class=\"dataframe\">\n",
       "  <thead>\n",
       "    <tr style=\"text-align: right;\">\n",
       "      <th></th>\n",
       "      <th>count</th>\n",
       "      <th>mean</th>\n",
       "      <th>std</th>\n",
       "      <th>min</th>\n",
       "      <th>25%</th>\n",
       "      <th>50%</th>\n",
       "      <th>75%</th>\n",
       "      <th>max</th>\n",
       "    </tr>\n",
       "  </thead>\n",
       "  <tbody>\n",
       "    <tr>\n",
       "      <th>Quantity</th>\n",
       "      <td>401604.0</td>\n",
       "      <td>12.183273</td>\n",
       "      <td>250.283037</td>\n",
       "      <td>-80995.0</td>\n",
       "      <td>2.00</td>\n",
       "      <td>5.00</td>\n",
       "      <td>12.00</td>\n",
       "      <td>80995.0</td>\n",
       "    </tr>\n",
       "    <tr>\n",
       "      <th>UnitPrice</th>\n",
       "      <td>401604.0</td>\n",
       "      <td>3.474064</td>\n",
       "      <td>69.764035</td>\n",
       "      <td>0.0</td>\n",
       "      <td>1.25</td>\n",
       "      <td>1.95</td>\n",
       "      <td>3.75</td>\n",
       "      <td>38970.0</td>\n",
       "    </tr>\n",
       "    <tr>\n",
       "      <th>CustomerID</th>\n",
       "      <td>401604.0</td>\n",
       "      <td>15281.160818</td>\n",
       "      <td>1714.006089</td>\n",
       "      <td>12346.0</td>\n",
       "      <td>13939.00</td>\n",
       "      <td>15145.00</td>\n",
       "      <td>16784.00</td>\n",
       "      <td>18287.0</td>\n",
       "    </tr>\n",
       "  </tbody>\n",
       "</table>\n",
       "</div>"
      ],
      "text/plain": [
       "               count          mean          std      min       25%       50%  \\\n",
       "Quantity    401604.0     12.183273   250.283037 -80995.0      2.00      5.00   \n",
       "UnitPrice   401604.0      3.474064    69.764035      0.0      1.25      1.95   \n",
       "CustomerID  401604.0  15281.160818  1714.006089  12346.0  13939.00  15145.00   \n",
       "\n",
       "                 75%      max  \n",
       "Quantity       12.00  80995.0  \n",
       "UnitPrice       3.75  38970.0  \n",
       "CustomerID  16784.00  18287.0  "
      ]
     },
     "execution_count": 187,
     "metadata": {},
     "output_type": "execute_result"
    }
   ],
   "source": [
    "df.describe().T"
   ]
  },
  {
   "cell_type": "markdown",
   "id": "b3c288a0",
   "metadata": {},
   "source": [
    "##  First TEN Selling Countries "
   ]
  },
  {
   "cell_type": "code",
   "execution_count": 188,
   "id": "ae57a18c",
   "metadata": {},
   "outputs": [],
   "source": [
    "# df[input(\"Enter the coulomn you want to count and plot in ascending order\")].value_counts().sort_values(ascending=False).head(10).plot(kind=\"bar\")"
   ]
  },
  {
   "cell_type": "code",
   "execution_count": 189,
   "id": "c099dc39",
   "metadata": {},
   "outputs": [
    {
     "name": "stdout",
     "output_type": "stream",
     "text": [
      "Enter the column you want to order in ascending order  to be added in alistCountry\n"
     ]
    },
    {
     "data": {
      "text/plain": [
       "['United Kingdom',\n",
       " 'Germany',\n",
       " 'France',\n",
       " 'EIRE',\n",
       " 'Spain',\n",
       " 'Netherlands',\n",
       " 'Belgium',\n",
       " 'Switzerland',\n",
       " 'Portugal',\n",
       " 'Australia']"
      ]
     },
     "execution_count": 189,
     "metadata": {},
     "output_type": "execute_result"
    }
   ],
   "source": [
    "top_countries = df[input(\"Enter the column you want to order in ascending order  to be added in alist\")].value_counts().sort_values(ascending=False).head(10).index.to_list()\n",
    "top_countries"
   ]
  },
  {
   "cell_type": "markdown",
   "id": "73e501bc",
   "metadata": {},
   "source": [
    "##  First TEN StockCode"
   ]
  },
  {
   "cell_type": "code",
   "execution_count": 190,
   "id": "349073d6",
   "metadata": {},
   "outputs": [
    {
     "name": "stdout",
     "output_type": "stream",
     "text": [
      "Enter the column you want to order in ascending order  to be added in alistStockCode\n"
     ]
    },
    {
     "data": {
      "text/plain": [
       "['85123A',\n",
       " '22423',\n",
       " '85099B',\n",
       " '47566',\n",
       " '84879',\n",
       " '20725',\n",
       " '22720',\n",
       " 'POST',\n",
       " '22197',\n",
       " '23203']"
      ]
     },
     "execution_count": 190,
     "metadata": {},
     "output_type": "execute_result"
    }
   ],
   "source": [
    "top_stokes = df[input(\"Enter the column you want to order in ascending order  to be added in alist\")].value_counts().sort_values(ascending=False).head(10).index.to_list()\n",
    "top_stokes"
   ]
  },
  {
   "cell_type": "markdown",
   "id": "ad7b92ec",
   "metadata": {},
   "source": [
    "### First 10 mean unit price per  countries\n"
   ]
  },
  {
   "cell_type": "code",
   "execution_count": 168,
   "id": "d1f965c4",
   "metadata": {},
   "outputs": [],
   "source": [
    "df.groupby('Country').mean()['UnitPrice'].sort_values(ascending=False).head(10)"
   ]
  },
  {
   "cell_type": "code",
   "execution_count": 191,
   "id": "fb0c4529",
   "metadata": {},
   "outputs": [
    {
     "data": {
      "text/html": [
       "<div>\n",
       "<style scoped>\n",
       "    .dataframe tbody tr th:only-of-type {\n",
       "        vertical-align: middle;\n",
       "    }\n",
       "\n",
       "    .dataframe tbody tr th {\n",
       "        vertical-align: top;\n",
       "    }\n",
       "\n",
       "    .dataframe thead th {\n",
       "        text-align: right;\n",
       "    }\n",
       "</style>\n",
       "<table border=\"1\" class=\"dataframe\">\n",
       "  <thead>\n",
       "    <tr style=\"text-align: right;\">\n",
       "      <th></th>\n",
       "      <th>Quantity</th>\n",
       "      <th>UnitPrice</th>\n",
       "      <th>CustomerID</th>\n",
       "    </tr>\n",
       "  </thead>\n",
       "  <tbody>\n",
       "    <tr>\n",
       "      <th>count</th>\n",
       "      <td>229.000000</td>\n",
       "      <td>229.000000</td>\n",
       "      <td>229.0</td>\n",
       "    </tr>\n",
       "    <tr>\n",
       "      <th>mean</th>\n",
       "      <td>22.855895</td>\n",
       "      <td>109.645808</td>\n",
       "      <td>12744.0</td>\n",
       "    </tr>\n",
       "    <tr>\n",
       "      <th>std</th>\n",
       "      <td>27.742886</td>\n",
       "      <td>515.275500</td>\n",
       "      <td>0.0</td>\n",
       "    </tr>\n",
       "    <tr>\n",
       "      <th>min</th>\n",
       "      <td>-1.000000</td>\n",
       "      <td>0.190000</td>\n",
       "      <td>12744.0</td>\n",
       "    </tr>\n",
       "    <tr>\n",
       "      <th>25%</th>\n",
       "      <td>8.000000</td>\n",
       "      <td>1.250000</td>\n",
       "      <td>12744.0</td>\n",
       "    </tr>\n",
       "    <tr>\n",
       "      <th>50%</th>\n",
       "      <td>12.000000</td>\n",
       "      <td>2.100000</td>\n",
       "      <td>12744.0</td>\n",
       "    </tr>\n",
       "    <tr>\n",
       "      <th>75%</th>\n",
       "      <td>24.000000</td>\n",
       "      <td>4.150000</td>\n",
       "      <td>12744.0</td>\n",
       "    </tr>\n",
       "    <tr>\n",
       "      <th>max</th>\n",
       "      <td>288.000000</td>\n",
       "      <td>3949.320000</td>\n",
       "      <td>12744.0</td>\n",
       "    </tr>\n",
       "  </tbody>\n",
       "</table>\n",
       "</div>"
      ],
      "text/plain": [
       "         Quantity    UnitPrice  CustomerID\n",
       "count  229.000000   229.000000       229.0\n",
       "mean    22.855895   109.645808     12744.0\n",
       "std     27.742886   515.275500         0.0\n",
       "min     -1.000000     0.190000     12744.0\n",
       "25%      8.000000     1.250000     12744.0\n",
       "50%     12.000000     2.100000     12744.0\n",
       "75%     24.000000     4.150000     12744.0\n",
       "max    288.000000  3949.320000     12744.0"
      ]
     },
     "execution_count": 191,
     "metadata": {},
     "output_type": "execute_result"
    }
   ],
   "source": [
    "df[df['Country'] == 'Singapore'].describe()"
   ]
  },
  {
   "cell_type": "code",
   "execution_count": 192,
   "id": "8be90958",
   "metadata": {},
   "outputs": [],
   "source": [
    "df[df['Country'] == 'Singapore']['UnitPrice'].quantile(0.95)"
   ]
  },
  {
   "cell_type": "markdown",
   "id": "d724f031",
   "metadata": {},
   "source": [
    "#### Outliers"
   ]
  },
  {
   "cell_type": "code",
   "execution_count": 193,
   "id": "bdab5ac8",
   "metadata": {},
   "outputs": [],
   "source": [
    "df[df['Country'] == 'Singapore'].groupby('StockCode').mean()['UnitPrice'].sort_values(ascending=False).head(10)"
   ]
  },
  {
   "cell_type": "code",
   "execution_count": 194,
   "id": "acd3f15c",
   "metadata": {},
   "outputs": [],
   "source": [
    "df[df['Country'] == 'Singapore'].groupby('StockCode').mean()['UnitPrice'].sort_values(ascending=False).head(10)"
   ]
  },
  {
   "cell_type": "code",
   "execution_count": 195,
   "id": "75c54db9",
   "metadata": {},
   "outputs": [],
   "source": [
    "import warnings\n",
    "import pandas as pd\n",
    "from sklearn.model_selection import train_test_split\n",
    "from sklearn.preprocessing import StandardScaler\n",
    "\n",
    "warnings.filterwarnings('ignore')\n",
    "\n",
    "# Assuming 'Quantity' is the target variable\n",
    "# target_column = input(\"Enter the column that you want to predict: \")\n",
    "\n",
    "X = df.drop(columns=[\"Quantity\"])\n",
    "y = df[\"Quantity\"]\n",
    "\n",
    "\n"
   ]
  },
  {
   "cell_type": "code",
   "execution_count": 196,
   "id": "de9f2787",
   "metadata": {},
   "outputs": [
    {
     "name": "stdout",
     "output_type": "stream",
     "text": [
      "InvoiceNo       object\n",
      "StockCode       object\n",
      "Description     object\n",
      "InvoiceDate     object\n",
      "UnitPrice      float64\n",
      "CustomerID     float64\n",
      "Country         object\n",
      "dtype: object\n"
     ]
    }
   ],
   "source": [
    "# Check data types of each column\n",
    "print(X.dtypes)\n"
   ]
  },
  {
   "cell_type": "markdown",
   "id": "51752710",
   "metadata": {},
   "source": [
    "# scaling the data and Hot encoding"
   ]
  },
  {
   "cell_type": "code",
   "execution_count": 197,
   "id": "c1f4a93c",
   "metadata": {},
   "outputs": [],
   "source": [
    "from sklearn.preprocessing import LabelEncoder, StandardScaler\n",
    "from sklearn.model_selection import train_test_split\n",
    "\n",
    "\n",
    "df_ = df.drop(columns=['Description','InvoiceDate'])\n",
    "df_ = df_[(df_['Country'].isin(top_countries)) & (df_['StockCode'].isin(top_stokes))]\n",
    "X = df_.drop(columns=['Quantity'])\n",
    "y = df_['Quantity']\n",
    "X = pd.get_dummies(X, columns=X.select_dtypes('object').columns,drop_first=True)\n",
    "scaler = StandardScaler()\n",
    "X_scaled = scaler.fit_transform(X.values)\n",
    "X_train, X_test, y_train, y_test = train_test_split(X_scaled,y,test_size=0.2,random_state=42)"
   ]
  },
  {
   "cell_type": "code",
   "execution_count": 198,
   "id": "beaaa4df",
   "metadata": {},
   "outputs": [
    {
     "name": "stdout",
     "output_type": "stream",
     "text": [
      "X_train: (11232, 9017)\n",
      "y_train: (11232, 1)\n",
      "X_test: (2809, 9017)\n",
      "y_test: (2809, 1)\n"
     ]
    }
   ],
   "source": [
    "\n",
    "\n",
    "# Create new DataFrames for training and testing sets\n",
    "X_train_df = pd.DataFrame(X_train, columns=X.columns)\n",
    "X_test_df = pd.DataFrame(X_test, columns=X.columns)\n",
    "y_train_df = pd.DataFrame(y_train, columns=[y.name])\n",
    "y_test_df = pd.DataFrame(y_test, columns=[y.name])\n",
    "\n",
    "# Reset indices for both X_train_df and y_train_df\n",
    "X_train_df.reset_index(drop=True, inplace=True)\n",
    "y_train_df.reset_index(drop=True, inplace=True)\n",
    "\n",
    "print('X_train:', X_train_df.shape)\n",
    "print('y_train:', y_train_df.shape)\n",
    "print('X_test:', X_test_df.shape)\n",
    "print('y_test:', y_test_df.shape)\n"
   ]
  },
  {
   "cell_type": "markdown",
   "id": "d20fdbe6",
   "metadata": {},
   "source": [
    "### Model "
   ]
  },
  {
   "cell_type": "code",
   "execution_count": 199,
   "id": "471f0a46",
   "metadata": {},
   "outputs": [],
   "source": [
    "import torch\n",
    "from torch import nn"
   ]
  },
  {
   "cell_type": "code",
   "execution_count": 200,
   "id": "65224c86",
   "metadata": {},
   "outputs": [],
   "source": [
    "class Data(torch.utils.data.Dataset):\n",
    "    def __init__(self, X, y):\n",
    "        self.X = torch.from_numpy(X)\n",
    "        self.y = torch.from_numpy(y.values)\n",
    "        \n",
    "    def __len__(self): return len(self.X)\n",
    "    \n",
    "    def __getitem__(self,i): return (self.X[i], self.y[i])"
   ]
  },
  {
   "cell_type": "code",
   "execution_count": 208,
   "id": "9d636d80",
   "metadata": {},
   "outputs": [],
   "source": [
    "class NeuralNetwork(nn.Module):\n",
    "    def __init__(self):\n",
    "        super().__init__()\n",
    "        self.layers = nn.Sequential(\n",
    "            nn.Linear(X.shape[1],50),\n",
    "            nn.ReLU(),\n",
    "            nn.Linear(50,30),\n",
    "            nn.Tanh(),\n",
    "            nn.Linear(30,10),\n",
    "            nn.LogSigmoid(),\n",
    "            nn.Linear(10,1)\n",
    "        )\n",
    "        \n",
    "    def forward(self,X):\n",
    "        return self.layers(X)"
   ]
  },
  {
   "cell_type": "code",
   "execution_count": 209,
   "id": "d061f720",
   "metadata": {},
   "outputs": [],
   "source": [
    "NN = NeuralNetwork()"
   ]
  },
  {
   "cell_type": "code",
   "execution_count": 210,
   "id": "751f47e3",
   "metadata": {},
   "outputs": [],
   "source": [
    "train_dataset = Data(X_train, y_train)\n",
    "train_loader = torch.utils.data.DataLoader(train_dataset, batch_size=8)"
   ]
  },
  {
   "cell_type": "code",
   "execution_count": 211,
   "id": "39de1c11",
   "metadata": {},
   "outputs": [],
   "source": [
    "\n",
    "optimizer = torch.optim.Adam(NN.parameters(), lr=1e-3,weight_decay=1e-2)"
   ]
  },
  {
   "cell_type": "code",
   "execution_count": 212,
   "id": "bbb86e14",
   "metadata": {},
   "outputs": [
    {
     "name": "stdout",
     "output_type": "stream",
     "text": [
      "-[01]  loss = 8432947.905225754 | diffrecence = 8432947.905225754\n",
      "-[02]  loss = 8248239.566328049 | diffrecence = -184708.33889770508\n",
      "-[03]  loss = 7986758.823423862 | diffrecence = -261480.74290418625\n",
      "-[04]  loss = 7401788.897787571 | diffrecence = -584969.9256362915\n",
      "-[05]  loss = 6950303.388853073 | diffrecence = -451485.50893449783\n",
      "-[06]  loss = 6625370.192596436 | diffrecence = -324933.1962566376\n",
      "-[07]  loss = 6180442.417964935 | diffrecence = -444927.77463150024\n",
      "-[08]  loss = 5781943.940582871 | diffrecence = -398498.47738206387\n",
      "-[09]  loss = 5467316.263991237 | diffrecence = -314627.67659163475\n",
      "-[10]  loss = 5074518.4383022785 | diffrecence = -392797.82568895817\n",
      "-[11]  loss = 4791535.753673375 | diffrecence = -282982.68462890387\n",
      "-[12]  loss = 4528388.902053088 | diffrecence = -263146.8516202867\n",
      "-[13]  loss = 4246236.864859819 | diffrecence = -282152.03719326854\n",
      "-[14]  loss = 4035046.02894336 | diffrecence = -211190.83591645956\n",
      "-[15]  loss = 3927756.179254174 | diffrecence = -107289.84968918562\n",
      "-[16]  loss = 3682340.359579444 | diffrecence = -245415.8196747303\n",
      "-[17]  loss = 3548279.8254166245 | diffrecence = -134060.5341628194\n",
      "-[18]  loss = 3302894.244292319 | diffrecence = -245385.58112430573\n",
      "-[19]  loss = 3210631.1406111717 | diffrecence = -92263.1036811471\n",
      "-[20]  loss = 3112075.4195782244 | diffrecence = -98555.7210329473\n",
      "-[21]  loss = 2999699.7670146823 | diffrecence = -112375.65256354213\n",
      "-[22]  loss = 3019712.5873079896 | diffrecence = 20012.820293307304\n",
      "-[23]  loss = 2983497.4556189477 | diffrecence = -36215.13168904185\n",
      "-[24]  loss = 2727042.367669493 | diffrecence = -256455.08794945478\n",
      "-[25]  loss = 2619809.2183180153 | diffrecence = -107233.14935147762\n",
      "-[26]  loss = 2523069.4200962186 | diffrecence = -96739.79822179675\n",
      "-[27]  loss = 2606566.5280258656 | diffrecence = 83497.10792964697\n",
      "-[28]  loss = 2362031.154443383 | diffrecence = -244535.37358248234\n",
      "-[29]  loss = 2197982.1825274825 | diffrecence = -164048.9719159007\n",
      "-[30]  loss = 2194103.4234187007 | diffrecence = -3878.7591087818146\n",
      "-[31]  loss = 2172511.80088526 | diffrecence = -21591.62253344059\n",
      "-[32]  loss = 7107705.116443694 | diffrecence = 4935193.3155584335\n",
      "-[33]  loss = 7647753.010582566 | diffrecence = 540047.8941388726\n",
      "-[34]  loss = 6722344.650914192 | diffrecence = -925408.3596683741\n",
      "-[35]  loss = 5938101.668505132 | diffrecence = -784242.98240906\n",
      "-[36]  loss = 5237692.220096827 | diffrecence = -700409.4484083056\n",
      "-[37]  loss = 4324385.972905636 | diffrecence = -913306.2471911907\n",
      "-[38]  loss = 3649442.099170327 | diffrecence = -674943.8737353086\n",
      "-[39]  loss = 3365128.4023985863 | diffrecence = -284313.6967717409\n",
      "-[40]  loss = 3029965.6182609797 | diffrecence = -335162.7841376066\n",
      "-[41]  loss = 2935185.7647992373 | diffrecence = -94779.8534617424\n",
      "-[42]  loss = 3191247.5836253166 | diffrecence = 256061.81882607937\n",
      "-[43]  loss = 3397296.6103316545 | diffrecence = 206049.02670633793\n",
      "-[44]  loss = 2609227.413248807 | diffrecence = -788069.1970828474\n",
      "-[45]  loss = 2504342.1683409214 | diffrecence = -104885.24490788579\n",
      "-[46]  loss = 2307581.0035020113 | diffrecence = -196761.1648389101\n",
      "-[47]  loss = 2190520.2962058783 | diffrecence = -117060.70729613304\n",
      "-[48]  loss = 2083898.105034411 | diffrecence = -106622.1911714673\n",
      "-[49]  loss = 2277459.689843774 | diffrecence = 193561.5848093629\n",
      "-[50]  loss = 2019362.1401096582 | diffrecence = -258097.5497341156\n",
      "-[51]  loss = 1987635.5629543066 | diffrecence = -31726.57715535164\n",
      "-[52]  loss = 1966475.1571996212 | diffrecence = -21160.405754685402\n",
      "-[53]  loss = 2005893.5920780897 | diffrecence = 39418.43487846851\n",
      "-[54]  loss = 1979336.5258903503 | diffrecence = -26557.066187739372\n",
      "-[55]  loss = 2064159.178024292 | diffrecence = 84822.65213394165\n",
      "-[56]  loss = 1923475.519589901 | diffrecence = -140683.65843439102\n",
      "-[57]  loss = 1731999.3945705295 | diffrecence = -191476.1250193715\n",
      "-[58]  loss = 1566363.6655614376 | diffrecence = -165635.72900909185\n",
      "-[59]  loss = 1751672.299864173 | diffrecence = 185308.63430273533\n",
      "-[60]  loss = 1831923.7806265354 | diffrecence = 80251.48076236248\n",
      "-[61]  loss = 1867597.9635418057 | diffrecence = 35674.18291527033\n",
      "-[62]  loss = 1503529.9370896816 | diffrecence = -364068.0264521241\n",
      "-[63]  loss = 1487296.5258831382 | diffrecence = -16233.411206543446\n",
      "-[64]  loss = 1493477.8198287487 | diffrecence = 6181.293945610523\n",
      "-[65]  loss = 1329400.9320814013 | diffrecence = -164076.88774734735\n",
      "-[66]  loss = 1389840.1749105453 | diffrecence = 60439.242829144\n",
      "-[67]  loss = 1592663.9281237125 | diffrecence = 202823.7532131672\n",
      "-[68]  loss = 1540463.860797882 | diffrecence = -52200.06732583046\n",
      "-[69]  loss = 1463701.5252145529 | diffrecence = -76762.3355833292\n",
      "-[70]  loss = 1913504.5321661234 | diffrecence = 449803.0069515705\n",
      "-[71]  loss = 1422659.667871356 | diffrecence = -490844.8642947674\n",
      "-[72]  loss = 1277527.4831155539 | diffrecence = -145132.18475580215\n",
      "-[73]  loss = 1321304.603475213 | diffrecence = 43777.120359659195\n",
      "-[74]  loss = 1196040.4933913946 | diffrecence = -125264.11008381844\n",
      "-[75]  loss = 1153261.3999089003 | diffrecence = -42779.093482494354\n",
      "-[76]  loss = 1190936.896955669 | diffrecence = 37675.497046768665\n",
      "-[77]  loss = 1853620.3681092262 | diffrecence = 662683.4711535573\n",
      "-[78]  loss = 1246973.7557325363 | diffrecence = -606646.6123766899\n",
      "-[79]  loss = 1198465.2195385695 | diffrecence = -48508.536193966866\n",
      "-[80]  loss = 1173402.511101365 | diffrecence = -25062.70843720436\n",
      "-[81]  loss = 1101038.5733207464 | diffrecence = -72363.93778061867\n",
      "-[82]  loss = 1224166.7189381123 | diffrecence = 123128.14561736584\n",
      "-[83]  loss = 1178699.189864397 | diffrecence = -45467.52907371521\n",
      "-[84]  loss = 1172668.10274899 | diffrecence = -6031.08711540699\n",
      "-[85]  loss = 1206028.7990823984 | diffrecence = 33360.696333408356\n",
      "-[86]  loss = 1185009.5928197503 | diffrecence = -21019.206262648106\n",
      "-[87]  loss = 1093789.2365949154 | diffrecence = -91220.35622483492\n",
      "-[88]  loss = 1079909.83062613 | diffrecence = -13879.405968785286\n",
      "-[89]  loss = 1224794.4926480055 | diffrecence = 144884.66202187538\n",
      "-[90]  loss = 1370299.950236082 | diffrecence = 145505.4575880766\n",
      "-[91]  loss = 1214516.7990527153 | diffrecence = -155783.15118336678\n",
      "-[92]  loss = 1170632.8108856678 | diffrecence = -43883.9881670475\n",
      "-[93]  loss = 1098377.865526557 | diffrecence = -72254.94535911083\n",
      "-[94]  loss = 1037953.2158133984 | diffrecence = -60424.64971315861\n",
      "-[95]  loss = 1061284.7813138962 | diffrecence = 23331.565500497818\n",
      "-[96]  loss = 1137573.401704073 | diffrecence = 76288.62039017677\n",
      "-[97]  loss = 1064574.9233179092 | diffrecence = -72998.47838616371\n",
      "-[98]  loss = 1102540.3308475018 | diffrecence = 37965.407529592514\n",
      "-[99]  loss = 991720.6759836674 | diffrecence = -110819.65486383438\n",
      "-[100]  loss = 1004857.765607357 | diffrecence = 13137.089623689651\n"
     ]
    }
   ],
   "source": [
    "cost = nn.MSELoss()\n",
    "past_trainig_loss = 0\n",
    "epochs = 100\n",
    "for epoch in range(epochs):\n",
    "    total_training_loss = 0\n",
    "    for i, data in enumerate(train_loader,0):\n",
    "        features,target = data\n",
    "        features,target = features.float(),target.float()\n",
    "        target = target.reshape(-1,1)\n",
    "        optimizer.zero_grad()\n",
    "        pred = NN.forward(features)\n",
    "        loss = cost(pred,target)\n",
    "        total_training_loss += loss.item()\n",
    "        loss.backward()\n",
    "        optimizer.step()\n",
    "    past_trainig_loss = total_training_loss - past_trainig_loss\n",
    "    print(f'-[{str(epoch+1).zfill(2)}]  loss = {total_training_loss} | diffrecence = {past_trainig_loss}')\n",
    "    past_trainig_loss = total_training_loss"
   ]
  },
  {
   "cell_type": "markdown",
   "id": "710cdabc",
   "metadata": {},
   "source": [
    "## Make Predictions"
   ]
  },
  {
   "cell_type": "code",
   "execution_count": 213,
   "id": "f4cb0326",
   "metadata": {},
   "outputs": [],
   "source": [
    "preds = NN.forward(torch.from_numpy(X_test).float())"
   ]
  },
  {
   "cell_type": "code",
   "execution_count": 214,
   "id": "d6acd236",
   "metadata": {},
   "outputs": [],
   "source": [
    "preds = preds.detach().numpy().reshape(-1,)"
   ]
  },
  {
   "cell_type": "code",
   "execution_count": 215,
   "id": "e4e17bc5",
   "metadata": {},
   "outputs": [],
   "source": [
    "result = pd.DataFrame(\n",
    "    {\n",
    "        'Actual':y_test,\n",
    "        'Prediction':np.round(preds).astype(int)\n",
    "\n",
    "    }\n",
    ")"
   ]
  },
  {
   "cell_type": "code",
   "execution_count": 216,
   "id": "ea9ba79d",
   "metadata": {},
   "outputs": [
    {
     "data": {
      "text/html": [
       "<div>\n",
       "<style scoped>\n",
       "    .dataframe tbody tr th:only-of-type {\n",
       "        vertical-align: middle;\n",
       "    }\n",
       "\n",
       "    .dataframe tbody tr th {\n",
       "        vertical-align: top;\n",
       "    }\n",
       "\n",
       "    .dataframe thead th {\n",
       "        text-align: right;\n",
       "    }\n",
       "</style>\n",
       "<table border=\"1\" class=\"dataframe\">\n",
       "  <thead>\n",
       "    <tr style=\"text-align: right;\">\n",
       "      <th></th>\n",
       "      <th>Actual</th>\n",
       "      <th>Prediction</th>\n",
       "    </tr>\n",
       "  </thead>\n",
       "  <tbody>\n",
       "    <tr>\n",
       "      <th>534035</th>\n",
       "      <td>18</td>\n",
       "      <td>4</td>\n",
       "    </tr>\n",
       "    <tr>\n",
       "      <th>500965</th>\n",
       "      <td>4</td>\n",
       "      <td>4</td>\n",
       "    </tr>\n",
       "    <tr>\n",
       "      <th>398283</th>\n",
       "      <td>32</td>\n",
       "      <td>25</td>\n",
       "    </tr>\n",
       "    <tr>\n",
       "      <th>234360</th>\n",
       "      <td>32</td>\n",
       "      <td>4</td>\n",
       "    </tr>\n",
       "    <tr>\n",
       "      <th>446773</th>\n",
       "      <td>10</td>\n",
       "      <td>4</td>\n",
       "    </tr>\n",
       "    <tr>\n",
       "      <th>182989</th>\n",
       "      <td>32</td>\n",
       "      <td>8</td>\n",
       "    </tr>\n",
       "    <tr>\n",
       "      <th>524192</th>\n",
       "      <td>3</td>\n",
       "      <td>4</td>\n",
       "    </tr>\n",
       "    <tr>\n",
       "      <th>271810</th>\n",
       "      <td>12</td>\n",
       "      <td>114</td>\n",
       "    </tr>\n",
       "    <tr>\n",
       "      <th>424949</th>\n",
       "      <td>8</td>\n",
       "      <td>5</td>\n",
       "    </tr>\n",
       "    <tr>\n",
       "      <th>118722</th>\n",
       "      <td>1</td>\n",
       "      <td>4</td>\n",
       "    </tr>\n",
       "  </tbody>\n",
       "</table>\n",
       "</div>"
      ],
      "text/plain": [
       "        Actual  Prediction\n",
       "534035      18           4\n",
       "500965       4           4\n",
       "398283      32          25\n",
       "234360      32           4\n",
       "446773      10           4\n",
       "182989      32           8\n",
       "524192       3           4\n",
       "271810      12         114\n",
       "424949       8           5\n",
       "118722       1           4"
      ]
     },
     "execution_count": 216,
     "metadata": {},
     "output_type": "execute_result"
    }
   ],
   "source": [
    "result.head(10)\n"
   ]
  },
  {
   "cell_type": "code",
   "execution_count": 217,
   "id": "e27eb4e5",
   "metadata": {},
   "outputs": [
    {
     "data": {
      "text/plain": [
       "-1.2166222570195169"
      ]
     },
     "execution_count": 217,
     "metadata": {},
     "output_type": "execute_result"
    }
   ],
   "source": [
    "from sklearn.metrics import r2_score\n",
    "\n",
    "r2_score(y_test,preds)"
   ]
  },
  {
   "cell_type": "code",
   "execution_count": null,
   "id": "18bf3ca8",
   "metadata": {},
   "outputs": [],
   "source": []
  }
 ],
 "metadata": {
  "kernelspec": {
   "display_name": "Python 3 (ipykernel)",
   "language": "python",
   "name": "python3"
  },
  "language_info": {
   "codemirror_mode": {
    "name": "ipython",
    "version": 3
   },
   "file_extension": ".py",
   "mimetype": "text/x-python",
   "name": "python",
   "nbconvert_exporter": "python",
   "pygments_lexer": "ipython3",
   "version": "3.9.13"
  }
 },
 "nbformat": 4,
 "nbformat_minor": 5
}
